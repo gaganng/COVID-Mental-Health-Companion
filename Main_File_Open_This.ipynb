{
 "cells": [
  {
   "cell_type": "markdown",
   "metadata": {},
   "source": [
    "### Import Packages"
   ]
  },
  {
   "cell_type": "code",
   "execution_count": 1,
   "metadata": {},
   "outputs": [],
   "source": [
    "from ibm_watson import SpeechToTextV1, NaturalLanguageUnderstandingV1\n",
    "from ibm_cloud_sdk_core.authenticators import IAMAuthenticator\n",
    "from ibm_watson.natural_language_understanding_v1 import Features, EntitiesOptions, KeywordsOptions, EmotionOptions, SentimentOptions\n",
    "import json\n",
    "from ipynb.fs.full.audio_recorder import record_and_save_audio\n",
    "import os"
   ]
  },
  {
   "cell_type": "markdown",
   "metadata": {},
   "source": [
    "### Record & Save Audio"
   ]
  },
  {
   "cell_type": "code",
   "execution_count": 2,
   "metadata": {},
   "outputs": [
    {
     "name": "stdout",
     "output_type": "stream",
     "text": [
      "Recording...\n",
      "Finished recording\n",
      "File Saved as output.wav\n"
     ]
    }
   ],
   "source": [
    "filename = record_and_save_audio()"
   ]
  },
  {
   "cell_type": "markdown",
   "metadata": {},
   "source": [
    "### Initiate APIs (Speech to text & NLU)"
   ]
  },
  {
   "cell_type": "code",
   "execution_count": 3,
   "metadata": {},
   "outputs": [],
   "source": [
    "#All API Credentials embedded in System\n",
    "speech_api = IAMAuthenticator(os.environ['speech_api_key'])\n",
    "speech_to_text = SpeechToTextV1(\n",
    "    authenticator=speech_api)\n",
    "\n",
    "speech_to_text.set_service_url(os.environ['speech_server_url'])"
   ]
  },
  {
   "cell_type": "code",
   "execution_count": 4,
   "metadata": {},
   "outputs": [],
   "source": [
    "nlu_api = IAMAuthenticator(os.environ['nlu_api_key'])\n",
    "nlu = NaturalLanguageUnderstandingV1(\n",
    "    version='2019-07-12',\n",
    "    authenticator=nlu_api)\n",
    "\n",
    "nlu.set_service_url(os.environ['nlu_server_url'])"
   ]
  },
  {
   "cell_type": "markdown",
   "metadata": {},
   "source": [
    "### Convert Speech to Text"
   ]
  },
  {
   "cell_type": "code",
   "execution_count": 5,
   "metadata": {},
   "outputs": [],
   "source": [
    "with open(filename,'rb') as audio_file:\n",
    "    resp = speech_to_text.recognize(\n",
    "        audio=audio_file,\n",
    "        content_type='audio/wav').get_result()"
   ]
  },
  {
   "cell_type": "code",
   "execution_count": 6,
   "metadata": {},
   "outputs": [],
   "source": [
    "transcript_text = ''.join([i['alternatives'][0]['transcript'] for i in resp['results']])"
   ]
  },
  {
   "cell_type": "markdown",
   "metadata": {},
   "source": [
    "### Use Natural Language Understanding to Parse the text"
   ]
  },
  {
   "cell_type": "code",
   "execution_count": 7,
   "metadata": {},
   "outputs": [],
   "source": [
    "features_obj=Features(\n",
    "    entities=EntitiesOptions(emotion=True, sentiment=True, limit=2),\n",
    "    keywords=KeywordsOptions(emotion=True, sentiment=True, limit=2),\n",
    "    emotion = EmotionOptions(document=True),\n",
    "    sentiment= SentimentOptions(document=True)\n",
    "    )"
   ]
  },
  {
   "cell_type": "code",
   "execution_count": 8,
   "metadata": {},
   "outputs": [],
   "source": [
    "nlu_resp = nlu.analyze(text=transcript_text,features=features_obj).get_result()"
   ]
  },
  {
   "cell_type": "markdown",
   "metadata": {},
   "source": [
    "### Prepare Mental Health Profile"
   ]
  },
  {
   "cell_type": "code",
   "execution_count": 9,
   "metadata": {},
   "outputs": [],
   "source": [
    "class mental_profile:\n",
    "    overall_emotion = None\n",
    "    impactful_things = {'positive':[],'negative':[]}\n",
    "    \n",
    "    def gen_report(self):\n",
    "        print('Overall Emotion\\t\\t\\t\\t:',self.overall_emotion,end='\\n\\n\\n')\n",
    "        print('THINGS GOING ON IN PERSON\\'s MIND\\t\\t')\n",
    "        print('Positive\\t\\t\\t\\t:',' | '.join(self.impactful_things['positive']),end='\\n\\n')\n",
    "        print('Negative\\t\\t\\t\\t:',' | '.join(self.impactful_things['negative']),end='\\n\\n')\n",
    "    \n",
    "    def gen_parameters(self,nlu_response):\n",
    "        self.overall_emotion = nlu_response['sentiment']['document']['label']\n",
    "        self.impactful_things['positive'] = [i['text'] for i in nlu_response['keywords'] if i['sentiment']['label']=='positive']\n",
    "        self.impactful_things['negative'] = [i['text'] for i in nlu_response['keywords'] if i['sentiment']['label']=='negative']"
   ]
  },
  {
   "cell_type": "code",
   "execution_count": 10,
   "metadata": {},
   "outputs": [
    {
     "name": "stdout",
     "output_type": "stream",
     "text": [
      "\n",
      "************************************************************************************************************************\n",
      "************************************************************************************************************************\n",
      "\n",
      "Overall Emotion\t\t\t\t: negative\n",
      "\n",
      "\n",
      "THINGS GOING ON IN PERSON's MIND\t\t\n",
      "Positive\t\t\t\t: independent\n",
      "\n",
      "Negative\t\t\t\t: boyfriend | jealous | family | depressed\n",
      "\n",
      "\n",
      " ************************************************************************************************************************\n",
      "************************************************************************************************************************\n"
     ]
    }
   ],
   "source": [
    "new_pers=mental_profile()\n",
    "new_pers.gen_parameters(nlu_resp)\n",
    "print('\\n','*'*120,sep='');print('*'*120,end='\\n\\n')\n",
    "new_pers.gen_report()\n",
    "print('\\n','*'*120);print('*'*120)"
   ]
  }
 ],
 "metadata": {
  "kernelspec": {
   "display_name": "Python 3",
   "language": "python",
   "name": "python3"
  },
  "language_info": {
   "codemirror_mode": {
    "name": "ipython",
    "version": 3
   },
   "file_extension": ".py",
   "mimetype": "text/x-python",
   "name": "python",
   "nbconvert_exporter": "python",
   "pygments_lexer": "ipython3",
   "version": "3.7.6"
  }
 },
 "nbformat": 4,
 "nbformat_minor": 4
}
